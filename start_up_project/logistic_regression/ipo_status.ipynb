{
 "cells": [
  {
   "cell_type": "code",
   "execution_count": 1,
   "metadata": {},
   "outputs": [
    {
     "name": "stdout",
     "output_type": "stream",
     "text": [
      "                                name      ipo_status\n",
      "0                            waywire         pre_ipo\n",
      "1                 &TV Communications  likely_pre_ipo\n",
      "2                  'Rock' Your Paper         pre_ipo\n",
      "3                  (In)Touch Network         pre_ipo\n",
      "4                 -R- Ranch and Mine         pre_ipo\n",
      "...                              ...             ...\n",
      "42742                          Zyrra  likely_pre_ipo\n",
      "42743                     Zytoprotec  likely_pre_ipo\n",
      "42744                          Zzish         pre_ipo\n",
      "42745  ZZNode Science and Technology  likely_pre_ipo\n",
      "42746          Zzzzapp Wireless ltd.         pre_ipo\n",
      "\n",
      "[42747 rows x 2 columns]\n"
     ]
    }
   ],
   "source": [
    "import pandas as pd\n",
    "\n",
    "df = pd.read_csv(\"supercleaned_dataset.csv\")\n",
    "\n",
    "# Function to infer IPO status including venture capital and private equity\n",
    "def determine_ipo_status(row):\n",
    "    # Rule 1: If post-IPO columns have non-zero values, it's post-IPO\n",
    "    if row['post_ipo_equity'] > 0 or row['post_ipo_debt'] > 0:\n",
    "        return 'post_ipo'\n",
    "    \n",
    "    # Rule 2: If the company has gone to Round B or higher, or has venture capital or private equity funding, mark as likely_pre_ipo\n",
    "    if (row['round_b'] > 0 or \n",
    "        row['round_c'] > 0 or \n",
    "        row['round_d'] > 0 or \n",
    "        row['round_e'] > 0 or \n",
    "        row['round_f'] > 0 or \n",
    "        row['round_g'] > 0 or \n",
    "        row['round_h'] > 0 or \n",
    "        row['venture'] > 0 or \n",
    "        row['private_equity'] > 0):\n",
    "        return 'likely_pre_ipo'\n",
    "    \n",
    "    # Rule 3: If only Round A is completed and no venture/private equity, mark as pre_ipo\n",
    "    if row['round_a'] > 0 and row['round_b'] == 0 and row['venture'] == 0 and row['private_equity'] == 0:\n",
    "        return 'pre_ipo'\n",
    "    \n",
    "    # Default to pre_ipo if no other conditions are met\n",
    "    return 'pre_ipo'\n",
    "\n",
    "# Apply the function to each row in the DataFrame\n",
    "df['ipo_status'] = df.apply(determine_ipo_status, axis=1)\n",
    "\n",
    "# Display the updated DataFrame\n",
    "print(df[['name', 'ipo_status']])\n"
   ]
  },
  {
   "cell_type": "code",
   "execution_count": 3,
   "metadata": {},
   "outputs": [
    {
     "name": "stdout",
     "output_type": "stream",
     "text": [
      "File saved as supercleaned_dataset_ipo.csv\n"
     ]
    }
   ],
   "source": [
    "# Save the DataFrame to a CSV file\n",
    "df.to_csv('supercleaned_dataset_ipo.csv', index=False)\n",
    "\n",
    "print(\"File saved as supercleaned_dataset_ipo.csv\")\n"
   ]
  },
  {
   "cell_type": "code",
   "execution_count": null,
   "metadata": {},
   "outputs": [],
   "source": []
  }
 ],
 "metadata": {
  "kernelspec": {
   "display_name": "base",
   "language": "python",
   "name": "python3"
  },
  "language_info": {
   "codemirror_mode": {
    "name": "ipython",
    "version": 3
   },
   "file_extension": ".py",
   "mimetype": "text/x-python",
   "name": "python",
   "nbconvert_exporter": "python",
   "pygments_lexer": "ipython3",
   "version": "3.11.5"
  }
 },
 "nbformat": 4,
 "nbformat_minor": 2
}

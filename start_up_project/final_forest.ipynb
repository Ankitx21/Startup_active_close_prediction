{
 "cells": [
  {
   "cell_type": "code",
   "execution_count": 10,
   "metadata": {},
   "outputs": [
    {
     "name": "stdout",
     "output_type": "stream",
     "text": [
      "Explained Variance Ratios for each component:\n",
      "Component 1: 0.1444\n",
      "Component 2: 0.0853\n",
      "Component 3: 0.0800\n",
      "Component 4: 0.0552\n",
      "Component 5: 0.0485\n",
      "Component 6: 0.0481\n",
      "Component 7: 0.0453\n",
      "Component 8: 0.0442\n",
      "Component 9: 0.0437\n",
      "Component 10: 0.0436\n",
      "Component 11: 0.0435\n",
      "Component 12: 0.0430\n",
      "Component 13: 0.0422\n",
      "Component 14: 0.0412\n",
      "Component 15: 0.0383\n",
      "Component 16: 0.0347\n",
      "Component 17: 0.0321\n",
      "Component 18: 0.0295\n",
      "Component 19: 0.0253\n",
      "Component 20: 0.0236\n",
      "Component 21: 0.0053\n",
      "Component 22: 0.0030\n",
      "Component 23: 0.0000\n"
     ]
    }
   ],
   "source": [
    "import pandas as pd\n",
    "from sklearn.decomposition import PCA\n",
    "from sklearn.preprocessing import StandardScaler\n",
    "from sklearn.ensemble import RandomForestClassifier\n",
    "from sklearn.model_selection import GridSearchCV, train_test_split, cross_val_score\n",
    "from sklearn.metrics import accuracy_score, f1_score, precision_score, recall_score\n",
    "\n",
    "# Load your dataset\n",
    "df = pd.read_csv('df_sorted.csv')  # Change this to the path of your dataset\n",
    "\n",
    "# Drop date columns\n",
    "df.drop(columns=['founded_at', 'first_funding_at', 'last_funding_at', 'founded_year'], inplace=True)\n",
    "\n",
    "# Select features for PCA (excluding target variable 'status', 'name', 'market', 'country_code', and 'city')\n",
    "features = df.drop(columns=['status', 'name', 'market', 'country_code', 'city'])\n",
    "X = features.values\n",
    "y = df['status']\n",
    "\n",
    "# Standardize the data\n",
    "scaler = StandardScaler()\n",
    "X_scaled = scaler.fit_transform(X)\n",
    "\n",
    "# Apply PCA\n",
    "pca = PCA()\n",
    "X_pca = pca.fit_transform(X_scaled)\n",
    "\n",
    "# Create a DataFrame for PCA results and get variance ratios\n",
    "pca_df = pd.DataFrame(data=X_pca)\n",
    "variance_ratios = pca.explained_variance_ratio_\n",
    "\n",
    "# Print explained variance ratios\n",
    "print(\"Explained Variance Ratios for each component:\")\n",
    "for i, ratio in enumerate(variance_ratios):\n",
    "    print(f\"Component {i+1}: {ratio:.4f}\")\n",
    "\n",
    "# Selecting top 15 features based on explained variance\n",
    "X_top15 = pca_df.iloc[:, :15]"
   ]
  },
  {
   "cell_type": "code",
   "execution_count": 12,
   "metadata": {},
   "outputs": [
    {
     "name": "stderr",
     "output_type": "stream",
     "text": [
      "c:\\Users\\Ankit\\anaconda3\\Lib\\site-packages\\sklearn\\model_selection\\_search.py:307: UserWarning: The total space of parameters 8 is smaller than n_iter=10. Running 8 iterations. For exhaustive searches, use GridSearchCV.\n",
      "  warnings.warn(\n"
     ]
    },
    {
     "name": "stdout",
     "output_type": "stream",
     "text": [
      "Fitting 3 folds for each of 8 candidates, totalling 24 fits\n"
     ]
    },
    {
     "name": "stderr",
     "output_type": "stream",
     "text": [
      "c:\\Users\\Ankit\\anaconda3\\Lib\\site-packages\\sklearn\\model_selection\\_search.py:976: UserWarning: One or more of the test scores are non-finite: [nan nan nan nan nan nan nan nan]\n",
      "  warnings.warn(\n"
     ]
    },
    {
     "name": "stdout",
     "output_type": "stream",
     "text": [
      "Best Parameters:  {'n_estimators': 100, 'min_samples_split': 2, 'max_depth': None}\n"
     ]
    }
   ],
   "source": [
    "#  Split the data into training and testing sets\n",
    "from sklearn.model_selection import RandomizedSearchCV\n",
    "X_train, X_test, y_train, y_test = train_test_split(X_top15, y, test_size=0.2, random_state=42)\n",
    "\n",
    "# Set up a reduced hyperparameter grid for Random Forest\n",
    "param_dist = {\n",
    "    'n_estimators': [100, 200],  # Fewer options\n",
    "    'max_depth': [None, 10],      # Fewer options\n",
    "    'min_samples_split': [2, 5],  # Fewer options\n",
    "}\n",
    "\n",
    "# Initialize Random Forest Classifier\n",
    "rf = RandomForestClassifier(random_state=42)\n",
    "\n",
    "# Hyperparameter tuning using RandomizedSearchCV\n",
    "random_search = RandomizedSearchCV(estimator=rf, param_distributions=param_dist, \n",
    "                                   n_iter=10, scoring='f1', cv=3, verbose=2, n_jobs=-1, random_state=42)\n",
    "random_search.fit(X_train, y_train)\n",
    "\n",
    "# Best parameters\n",
    "best_params = random_search.best_params_\n",
    "print(\"Best Parameters: \", best_params)"
   ]
  },
  {
   "cell_type": "code",
   "execution_count": 13,
   "metadata": {},
   "outputs": [
    {
     "name": "stdout",
     "output_type": "stream",
     "text": [
      "Cross-Validation Scores: [0.93764151 0.93773585 0.93632075]\n",
      "Mean Cross-Validation Score: 0.9372\n",
      "Test Accuracy: 0.9357\n",
      "F1 Score: 0.9149\n",
      "Precision: 0.8960\n",
      "Recall: 0.9357\n"
     ]
    }
   ],
   "source": [
    "# Train the model with best parameters\n",
    "best_rf = random_search.best_estimator_\n",
    "\n",
    "# Cross-validation\n",
    "cv_scores = cross_val_score(best_rf, X_train, y_train, cv=3)\n",
    "\n",
    "# Train on the entire training set\n",
    "best_rf.fit(X_train, y_train)\n",
    "\n",
    "# Predictions\n",
    "y_pred = best_rf.predict(X_test)\n",
    "\n",
    "# Evaluation metrics\n",
    "accuracy = accuracy_score(y_test, y_pred)\n",
    "f1 = f1_score(y_test, y_pred, average='weighted')\n",
    "precision = precision_score(y_test, y_pred, average='weighted')\n",
    "recall = recall_score(y_test, y_pred, average='weighted')\n",
    "\n",
    "# Print evaluation metrics including test accuracy\n",
    "print(f\"Cross-Validation Scores: {cv_scores}\")\n",
    "print(f\"Mean Cross-Validation Score: {cv_scores.mean():.4f}\")\n",
    "print(f\"Test Accuracy: {accuracy:.4f}\")  # Test accuracy\n",
    "print(f\"F1 Score: {f1:.4f}\")\n",
    "print(f\"Precision: {precision:.4f}\")\n",
    "print(f\"Recall: {recall:.4f}\")"
   ]
  }
 ],
 "metadata": {
  "kernelspec": {
   "display_name": "base",
   "language": "python",
   "name": "python3"
  },
  "language_info": {
   "codemirror_mode": {
    "name": "ipython",
    "version": 3
   },
   "file_extension": ".py",
   "mimetype": "text/x-python",
   "name": "python",
   "nbconvert_exporter": "python",
   "pygments_lexer": "ipython3",
   "version": "3.11.5"
  }
 },
 "nbformat": 4,
 "nbformat_minor": 2
}
